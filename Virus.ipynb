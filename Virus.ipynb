{
  "nbformat": 4,
  "nbformat_minor": 0,
  "metadata": {
    "colab": {
      "provenance": [],
      "collapsed_sections": [
        "HAVnFtVPynUY"
      ]
    },
    "kernelspec": {
      "name": "python3",
      "display_name": "Python 3"
    },
    "language_info": {
      "name": "python"
    }
  },
  "cells": [
    {
      "cell_type": "markdown",
      "source": [
        "# Постановка задачи"
      ],
      "metadata": {
        "id": "HAVnFtVPynUY"
      }
    },
    {
      "cell_type": "markdown",
      "source": [
        "Используя в качестве исходного набора данных датасет по ссылке, постройте модель для определения, того или иного класса вредоносного ПО.\n",
        "\n",
        "Проведите K-fold кросс-валидацию (размер тестовой части: 1/K) метрик: accuracy, F1, площадь под ROC при помощи комбинации методов ShuffleSplit и cross_validate, random_state = 63. Как результат для метрики взять среднее значение по folds, K = 8. Обучите три классификатора: LogisticRegression, DecisionTreeClassifier, RandomForestClassifier, random_state = 63.\n",
        "\n",
        "Оцените модели на тестовых данных."
      ],
      "metadata": {
        "id": "lpuWnCrXyZDI"
      }
    },
    {
      "cell_type": "markdown",
      "source": [
        "# Решение"
      ],
      "metadata": {
        "id": "QG1f5hsvzd2u"
      }
    },
    {
      "cell_type": "code",
      "source": [
        "!pip install --upgrade pip\n",
        "!pip install scikit-learn==0.23.0"
      ],
      "metadata": {
        "id": "JFO30QNdBR9D"
      },
      "execution_count": null,
      "outputs": []
    },
    {
      "cell_type": "code",
      "source": [
        "import pandas as pd\n",
        "import numpy as np\n",
        "from sklearn.model_selection import cross_validate\n",
        "from sklearn.tree import DecisionTreeClassifier\n",
        "from sklearn.ensemble import RandomForestClassifier\n",
        "from sklearn.linear_model import LogisticRegression\n",
        "from sklearn.model_selection import cross_validate\n",
        "from sklearn.model_selection import ShuffleSplit"
      ],
      "metadata": {
        "id": "cIQuXkf9zl1b"
      },
      "execution_count": 19,
      "outputs": []
    },
    {
      "cell_type": "code",
      "source": [
        "link='https://courses.openedu.ru/assets/courseware/v1/0c23e3262b6cf0e730653e275ae18f42/asset-v1:ITMOUniversity+INFSECBAS+spring_2024_ITMO+type@asset+block/Task_5_selected_data.csv'\n",
        "df=pd.read_csv(link)\n",
        "X=df.iloc[:, :-1]\n",
        "y=df.iloc[:, -1]"
      ],
      "metadata": {
        "id": "F3i1imzn1FPV"
      },
      "execution_count": 21,
      "outputs": []
    },
    {
      "cell_type": "code",
      "source": [
        "from tqdm import tqdm\n",
        "\n",
        "seed = 63\n",
        "estimators = {\n",
        "    'logit': LogisticRegression(n_jobs=-3, random_state=seed),\n",
        "    'dtc': DecisionTreeClassifier(random_state=seed),\n",
        "    'rfc': RandomForestClassifier(random_state=seed, n_jobs=-3)\n",
        "}"
      ],
      "metadata": {
        "id": "81jsFVW91_th"
      },
      "execution_count": 25,
      "outputs": []
    },
    {
      "cell_type": "code",
      "source": [
        "results={}\n",
        "k = 8\n",
        "cross_val = ShuffleSplit(n_splits = k, test_size = 1/k, random_state = seed)\n",
        "for name, est in tqdm(estimators.items()):\n",
        "    scores = cross_validate(est, X, y, scoring=['accuracy', 'f1_weighted', 'roc_auc_ovr_weighted'], cv = cross_val, n_jobs=-3)\n",
        "    results.update({name: scores})"
      ],
      "metadata": {
        "id": "xdcv8LxdARDa"
      },
      "execution_count": null,
      "outputs": []
    },
    {
      "cell_type": "markdown",
      "source": [
        "# Результат"
      ],
      "metadata": {
        "id": "NZtl_n-GBvF3"
      }
    },
    {
      "cell_type": "code",
      "source": [
        "for est in tqdm(estimators.keys()):\n",
        "    acc = results[est]['test_accuracy']\n",
        "    f1 = results[est]['test_f1_weighted']\n",
        "    roc_auc = results[est]['test_roc_auc_ovr_weighted']\n",
        "    print(f'\\nResults for {est}')\n",
        "    print(f'Accuracy: {round(np.mean(acc),3)}')\n",
        "    print(f'F1: {round(np.mean(f1),3)}')\n",
        "    print(f'ROC AUC: {round(np.mean(roc_auc),3)}')"
      ],
      "metadata": {
        "colab": {
          "base_uri": "https://localhost:8080/"
        },
        "id": "7hTbEUocB1uM",
        "outputId": "4bf9be38-46ab-484c-cb1f-d32022acd379"
      },
      "execution_count": 28,
      "outputs": [
        {
          "output_type": "stream",
          "name": "stderr",
          "text": [
            "100%|██████████| 3/3 [00:00<00:00, 4268.29it/s]"
          ]
        },
        {
          "output_type": "stream",
          "name": "stdout",
          "text": [
            "\n",
            "Results for logit\n",
            "Accuracy: 0.27\n",
            "F1: 0.183\n",
            "ROC AUC: 0.619\n",
            "\n",
            "Results for dtc\n",
            "Accuracy: 0.743\n",
            "F1: 0.742\n",
            "ROC AUC: 0.839\n",
            "\n",
            "Results for rfc\n",
            "Accuracy: 0.798\n",
            "F1: 0.798\n",
            "ROC AUC: 0.954\n"
          ]
        },
        {
          "output_type": "stream",
          "name": "stderr",
          "text": [
            "\n"
          ]
        }
      ]
    }
  ]
}